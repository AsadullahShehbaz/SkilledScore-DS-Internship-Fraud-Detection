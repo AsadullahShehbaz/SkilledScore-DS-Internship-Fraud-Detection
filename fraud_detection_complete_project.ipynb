{
 "cells": [
  {
   "cell_type": "markdown",
   "id": "fd208f66",
   "metadata": {},
   "source": [
    "<!-- ===== Gradient Header ===== -->\n",
    "<p style=\"background: linear-gradient(90deg, #fbc2eb, #a6c1ee);\n",
    "         font-family: 'Montserrat', sans-serif;\n",
    "         font-size: 24px;\n",
    "         text-align: center;\n",
    "         color: #1f1f1f;\n",
    "         padding: 22px 42px;\n",
    "         border-radius: 30px;\n",
    "         border: 3px solid #8fa6dc;\n",
    "         box-shadow: 0 8px 20px rgba(0,0,0,0.15);\n",
    "         letter-spacing: 1.1px;\n",
    "         word-spacing: 4px;\n",
    "         font-weight: 700;\n",
    "         text-shadow: 1px 1px 2px rgba(0,0,0,0.08);\n",
    "         margin: 10px 0 18px;\">\n",
    "  🔍 Fraud Detection in Financial Transactions\n",
    "</p>\n",
    "\n",
    "<!-- ===== Meta Badges ===== -->\n",
    "<div style=\"display:flex; gap:12px; flex-wrap:wrap; font-family:'Montserrat',sans-serif; margin: 0 2px 16px;\">\n",
    "  <span style=\"background:#fff4f0; border:1px solid #ffd8c2; color:#68391f;\n",
    "               padding:8px 14px; border-radius:999px; font-size:13px; box-shadow:0 2px 8px rgba(0,0,0,0.05);\">\n",
    "    👤 <b>Author:</b> Ali Asadullah Shahbaz\n",
    "  </span>\n",
    "  <span style=\"background:#f0f7ff; border:1px solid #cde2ff; color:#1f3b68;\n",
    "               padding:8px 14px; border-radius:999px; font-size:13px; box-shadow:0 2px 8px rgba(0,0,0,0.05);\">\n",
    "    🧩 <b>Project Type:</b> Fraud Detection (Classification)\n",
    "  </span>\n",
    "  <span style=\"background:#f9f9f9; border:1px solid #d1d1d1; color:#3b3b3b;\n",
    "               padding:8px 14px; border-radius:999px; font-size:13px; box-shadow:0 2px 8px rgba(0,0,0,0.05);\">\n",
    "    ⏱️ <b>Expected Duration:</b> 5 Days\n",
    "  </span>\n",
    "</div>\n",
    "\n",
    "<!-- ===== Objective Card ===== -->\n",
    "<p style=\"font-family: 'Montserrat', sans-serif;\n",
    "          font-size: 16px;\n",
    "          line-height: 1.7;\n",
    "          color: #333333;\n",
    "          background: #f0f7ff;\n",
    "          padding: 16px 20px;\n",
    "          border-radius: 14px;\n",
    "          border-left: 6px solid #8fa6dc;\n",
    "          box-shadow: 0 4px 15px rgba(0,0,0,0.05);\n",
    "          margin: 0 0 16px;\">\n",
    "  🎯 <b>Objective:</b> Identify fraudulent transactions from synthetic financial data using advanced machine learning techniques to ensure security and reduce financial risk.\n",
    "</p>\n",
    "\n",
    "<!-- ===== Deliverables Card ===== -->\n",
    "<div style=\"font-family:'Montserrat',sans-serif;\n",
    "            background:#ffffff;\n",
    "            padding:18px 20px;\n",
    "            border-radius:14px;\n",
    "            border:1px solid #e6f0ff;\n",
    "            box-shadow:0 6px 18px rgba(0,0,0,0.06);\n",
    "            color:#2a2a2a;\">\n",
    "  <div style=\"display:flex; align-items:center; gap:10px; margin-bottom:8px;\">\n",
    "    <span style=\"font-size:18px;\">📦</span>\n",
    "    <h3 style=\"margin:0; font-size:17px; color:#1f3b68;\">Deliverables</h3>\n",
    "  </div>\n",
    "  <ul style=\"margin:10px 0 0 18px; padding:0; line-height:1.8; font-size:15px;\">\n",
    "    <li>📊 <b>Data preprocessing and visualization</b> — feature analysis & cleaning</li>\n",
    "    <li>⚖️ <b>Class balancing</b> — SMOTE or undersampling techniques</li>\n",
    "    <li>🤖 <b>Modeling</b> — Random Forest and Gradient Boosting</li>\n",
    "    <li>📈 <b>Evaluation metrics</b> — Confusion Matrix, Precision/Recall analysis</li>\n",
    "  </ul>\n",
    "</div>\n"
   ]
  },
  {
   "cell_type": "markdown",
   "id": "0c2686b3",
   "metadata": {},
   "source": [
    "<p style=\"background: linear-gradient(90deg, #fde2e4, #fad2e1); font-family: 'Montserrat', sans-serif; font-size: 22px; text-align: center; color: #1f1f1f; padding: 18px 40px; border-radius: 30px; border: 4px solid #f8ad9d; box-shadow: 0px 8px 20px rgba(0, 0, 0, 0.15); letter-spacing: 1px; font-weight: 600; margin-top: 25px;\">🧑‍💻 About the Author</p>\n",
    "\n",
    "<div style=\"font-family: 'Montserrat', sans-serif; background: #ffffff; border-radius: 20px; padding: 25px; border: 1px solid #e5e7eb; box-shadow: 0 6px 20px rgba(0,0,0,0.08);\">\n",
    "  <p>Hi, I’m <strong>Asadullah Shehbaz</strong> — an aspiring Data Scientist passionate about uncovering insights through data. I’m on a journey to master machine learning, analytical thinking, and real-world problem solving, one project at a time.</p>\n",
    "  <blockquote style=\"background: #f1f5f9; border-left: 5px solid #38b000; padding: 12px 16px; font-style: italic; border-radius: 8px;\">“I believe community drives innovation — by learning together, we grow faster, think deeper, and build stronger solutions.”</blockquote>\n",
    "  <p>Feel free to connect, share feedback, or explore my other notebooks below! 👇</p>\n",
    "</div>\n",
    "\n",
    "<p style=\"background: linear-gradient(90deg, #caf0f8, #ade8f4); font-family: 'Montserrat', sans-serif; font-size: 22px; text-align: center; color: #1f1f1f; padding: 18px 40px; border-radius: 30px; border: 4px solid #90e0ef; box-shadow: 0px 8px 20px rgba(0, 0, 0, 0.15); letter-spacing: 1px; font-weight: 600; margin-top: 25px;\">🌐 Contact & Profiles</p>\n",
    "\n",
    "<div style=\"font-family: 'Montserrat', sans-serif; background: #ffffff; border-radius: 20px; padding: 25px; border: 1px solid #e5e7eb; box-shadow: 0 6px 20px rgba(0,0,0,0.08);\">\n",
    "  <ul style=\"list-style: none; padding: 0; display: flex; flex-wrap: wrap; gap: 12px;\">\n",
    "    <li><a href=\"mailto:asadullahcreative@gmail.com\" style=\"background: #f3f4f6; padding: 8px 14px; border-radius: 6px; text-decoration: none; color: #2563eb; font-weight: 600;\">📧 Email</a></li>\n",
    "    <li><a href=\"https://www.linkedin.com/in/asadullah-shehbaz-18172a2bb/\" style=\"background: #f3f4f6; padding: 8px 14px; border-radius: 6px; text-decoration: none; color: #2563eb; font-weight: 600;\">🔗 LinkedIn</a></li>\n",
    "    <li><a href=\"https://github.com/AsadullahShehbaz\" style=\"background: #f3f4f6; padding: 8px 14px; border-radius: 6px; text-decoration: none; color: #2563eb; font-weight: 600;\">💻 GitHub</a></li>\n",
    "    <li><a href=\"https://www.kaggle.com/asadullahcreative\" style=\"background: #f3f4f6; padding: 8px 14px; border-radius: 6px; text-decoration: none; color: #2563eb; font-weight: 600;\">🧠 Kaggle</a></li>\n",
    "    <li><a href=\"https://x.com/C786Asadullah\"style=\"background: #f3f4f6; padding: 8px 14px; border-radius: 6px; text-decoration: none; color: #2563eb; font-weight: 600;\">🐦 Twitter (X)</a></li>\n",
    "\n",
    "  </ul>\n",
    "</div>\n"
   ]
  },
  {
   "cell_type": "markdown",
   "id": "525c57e9",
   "metadata": {},
   "source": [
    "<!-- ===== Dataset Overview Card ===== -->\n",
    "<div style=\"font-family:'Montserrat',sans-serif;\n",
    "            background:#ffffff;\n",
    "            padding:18px 20px;\n",
    "            border-radius:14px;\n",
    "            border:1px solid #ffe7d9;\n",
    "            box-shadow:0 6px 18px rgba(0,0,0,0.06);\n",
    "            color:#2a2a2a;\n",
    "            margin-top:16px;\">\n",
    "  <div style=\"display:flex; align-items:center; gap:10px; margin-bottom:8px;\">\n",
    "    <span style=\"font-size:18px;\">🔎</span>\n",
    "    <h3 style=\"margin:0; font-size:17px; color:#6b2f1b;\">Dataset Overview</h3>\n",
    "  </div>\n",
    "  <ul style=\"margin:10px 0 0 18px; padding:0; line-height:1.8; font-size:15px;\">\n",
    "    <li><code>TransactionID</code>: Unique identifier of transaction.</li>\n",
    "    <li><code>Amount</code>: Transaction amount (skewed, exponential distribution).</li>\n",
    "    <li><code>Time</code>: Seconds in a day (0–86400).</li>\n",
    "    <li><code>Location</code>: State where transaction occurred.</li>\n",
    "    <li><code>Device</code>: Device type used.</li>\n",
    "    <li><code>IsFraud</code>: Target (0 = genuine, 1 = fraud).</li>\n",
    "  </ul>\n",
    "  <p style=\"margin-top:12px; font-size:14px; color:#4a4a4a; background:#fff4f0; padding:10px 12px; border-radius:8px; border-left:4px solid #ffb899;\">\n",
    "    ⚠️ <b>Imbalance Check:</b> Fraud is rare (~2%), which makes balancing important later.\n",
    "  </p>\n",
    "</div>\n"
   ]
  },
  {
   "cell_type": "markdown",
   "id": "c8ad4ef8",
   "metadata": {},
   "source": [
    "<!-- ===== Gradient Header ===== -->\n",
    "<p style=\"background: linear-gradient(90deg, #fbc2eb, #a6c1ee);\n",
    "         font-family: 'Montserrat', sans-serif;\n",
    "         font-size: 24px;\n",
    "         text-align: center;\n",
    "         color: #1f1f1f;\n",
    "         padding: 22px 42px;\n",
    "         border-radius: 30px;\n",
    "         border: 3px solid #8fa6dc;\n",
    "         box-shadow: 0 8px 20px rgba(0,0,0,0.15);\n",
    "         letter-spacing: 1.1px;\n",
    "         word-spacing: 4px;\n",
    "         font-weight: 700;\n",
    "         text-shadow: 1px 1px 2px rgba(0,0,0,0.08);\n",
    "         margin: 10px 0 18px;\">\n",
    "  1. Import Libraries\n",
    "</p>\n"
   ]
  },
  {
   "cell_type": "code",
   "execution_count": 235,
   "id": "28323207",
   "metadata": {},
   "outputs": [],
   "source": [
    "# Mock Data (Python):\n",
    "import pandas as pd\n",
    "import numpy as np\n",
    "import matplotlib.pyplot as plt \n",
    "import seaborn as sns\n",
    "\n",
    "from sklearn.feature_selection import SelectFromModel\n",
    "from sklearn.ensemble import RandomForestClassifier\n",
    "from sklearn.model_selection import train_test_split\n",
    "from sklearn.preprocessing import LabelEncoder,StandardScaler\n",
    "from imblearn.under_sampling import RandomUnderSampler\n",
    "from sklearn.metrics import precision_score, recall_score, confusion_matrix\n",
    "from imblearn.over_sampling  import SMOTE"
   ]
  },
  {
   "cell_type": "markdown",
   "id": "df846bc9",
   "metadata": {},
   "source": [
    "<!-- ===== Gradient Header ===== -->\n",
    "<p style=\"background: linear-gradient(90deg, #fbc2eb, #a6c1ee);\n",
    "         font-family: 'Montserrat', sans-serif;\n",
    "         font-size: 24px;\n",
    "         text-align: center;\n",
    "         color: #1f1f1f;\n",
    "         padding: 22px 42px;\n",
    "         border-radius: 30px;\n",
    "         border: 3px solid #8fa6dc;\n",
    "         box-shadow: 0 8px 20px rgba(0,0,0,0.15);\n",
    "         letter-spacing: 1.1px;\n",
    "         word-spacing: 4px;\n",
    "         font-weight: 700;\n",
    "         text-shadow: 1px 1px 2px rgba(0,0,0,0.08);\n",
    "         margin: 10px 0 18px;\">\n",
    "  2.Load and Explore the Data \n",
    "</p>\n"
   ]
  },
  {
   "cell_type": "code",
   "execution_count": 247,
   "id": "7739dafc",
   "metadata": {},
   "outputs": [
    {
     "data": {
      "text/html": [
       "<div>\n",
       "<style scoped>\n",
       "    .dataframe tbody tr th:only-of-type {\n",
       "        vertical-align: middle;\n",
       "    }\n",
       "\n",
       "    .dataframe tbody tr th {\n",
       "        vertical-align: top;\n",
       "    }\n",
       "\n",
       "    .dataframe thead th {\n",
       "        text-align: right;\n",
       "    }\n",
       "</style>\n",
       "<table border=\"1\" class=\"dataframe\">\n",
       "  <thead>\n",
       "    <tr style=\"text-align: right;\">\n",
       "      <th></th>\n",
       "      <th>TransactionID</th>\n",
       "      <th>Amount</th>\n",
       "      <th>Time</th>\n",
       "      <th>Location</th>\n",
       "      <th>Device</th>\n",
       "      <th>IsFraud</th>\n",
       "    </tr>\n",
       "  </thead>\n",
       "  <tbody>\n",
       "    <tr>\n",
       "      <th>0</th>\n",
       "      <td>0</td>\n",
       "      <td>36.69</td>\n",
       "      <td>53548</td>\n",
       "      <td>FL</td>\n",
       "      <td>ATM</td>\n",
       "      <td>0</td>\n",
       "    </tr>\n",
       "    <tr>\n",
       "      <th>1</th>\n",
       "      <td>1</td>\n",
       "      <td>96.77</td>\n",
       "      <td>79110</td>\n",
       "      <td>CA</td>\n",
       "      <td>ATM</td>\n",
       "      <td>0</td>\n",
       "    </tr>\n",
       "    <tr>\n",
       "      <th>2</th>\n",
       "      <td>2</td>\n",
       "      <td>2.88</td>\n",
       "      <td>52511</td>\n",
       "      <td>FL</td>\n",
       "      <td>ATM</td>\n",
       "      <td>0</td>\n",
       "    </tr>\n",
       "    <tr>\n",
       "      <th>3</th>\n",
       "      <td>3</td>\n",
       "      <td>79.25</td>\n",
       "      <td>8230</td>\n",
       "      <td>FL</td>\n",
       "      <td>Web</td>\n",
       "      <td>0</td>\n",
       "    </tr>\n",
       "    <tr>\n",
       "      <th>4</th>\n",
       "      <td>4</td>\n",
       "      <td>14.47</td>\n",
       "      <td>482</td>\n",
       "      <td>FL</td>\n",
       "      <td>Web</td>\n",
       "      <td>0</td>\n",
       "    </tr>\n",
       "  </tbody>\n",
       "</table>\n",
       "</div>"
      ],
      "text/plain": [
       "   TransactionID  Amount   Time Location Device  IsFraud\n",
       "0              0   36.69  53548       FL    ATM        0\n",
       "1              1   96.77  79110       CA    ATM        0\n",
       "2              2    2.88  52511       FL    ATM        0\n",
       "3              3   79.25   8230       FL    Web        0\n",
       "4              4   14.47    482       FL    Web        0"
      ]
     },
     "execution_count": 247,
     "metadata": {},
     "output_type": "execute_result"
    }
   ],
   "source": [
    "n = 50000\n",
    "df = pd.DataFrame({\n",
    "    'TransactionID': np.arange(n),\n",
    "    'Amount': np.round(np.random.exponential(scale=100, size=n), 2),\n",
    "    'Time': np.random.randint(0, 86400, size=n),  # seconds in a day\n",
    "    'Location': np.random.choice(['NY', 'CA', 'TX', 'FL'], size=n),\n",
    "    'Device': np.random.choice(['Mobile', 'Web', 'ATM'], size=n),\n",
    "    'IsFraud': np.random.choice([0, 1], size=n, p=[0.98, 0.02])\n",
    "})\n",
    "df.head()"
   ]
  },
  {
   "cell_type": "code",
   "execution_count": 191,
   "id": "a43566ab",
   "metadata": {},
   "outputs": [
    {
     "name": "stdout",
     "output_type": "stream",
     "text": [
      "Total rows in the data : 50000\n",
      "Total columns in the data : 6\n"
     ]
    }
   ],
   "source": [
    "print(\"Total rows in the data : {}\\nTotal columns in the data : {}\".format(df.shape[0],df.shape[1]))"
   ]
  },
  {
   "cell_type": "code",
   "execution_count": 192,
   "id": "05d131d8",
   "metadata": {},
   "outputs": [
    {
     "name": "stdout",
     "output_type": "stream",
     "text": [
      "The Column Names = ['TransactionID', 'Amount', 'Time', 'Location', 'Device', 'IsFraud']\n"
     ]
    }
   ],
   "source": [
    "print(\"The Column Names = {}\".format(df.columns.tolist()))"
   ]
  },
  {
   "cell_type": "code",
   "execution_count": 193,
   "id": "be5cac89",
   "metadata": {},
   "outputs": [
    {
     "name": "stdout",
     "output_type": "stream",
     "text": [
      "<class 'pandas.core.frame.DataFrame'>\n",
      "RangeIndex: 50000 entries, 0 to 49999\n",
      "Data columns (total 6 columns):\n",
      " #   Column         Non-Null Count  Dtype  \n",
      "---  ------         --------------  -----  \n",
      " 0   TransactionID  50000 non-null  int64  \n",
      " 1   Amount         50000 non-null  float64\n",
      " 2   Time           50000 non-null  int32  \n",
      " 3   Location       50000 non-null  object \n",
      " 4   Device         50000 non-null  object \n",
      " 5   IsFraud        50000 non-null  int64  \n",
      "dtypes: float64(1), int32(1), int64(2), object(2)\n",
      "memory usage: 2.1+ MB\n"
     ]
    }
   ],
   "source": [
    "df.info()"
   ]
  },
  {
   "cell_type": "markdown",
   "id": "bba8d0fb",
   "metadata": {},
   "source": [
    "**Observation**\n",
    "- The dataset used in this project is a **synthetic financial transaction dataset** consisting of **50,000 records**. Each record represents a single transaction with features describing its characteristics.  "
   ]
  },
  {
   "cell_type": "code",
   "execution_count": 194,
   "id": "85a7ede9",
   "metadata": {},
   "outputs": [
    {
     "data": {
      "text/html": [
       "<div>\n",
       "<style scoped>\n",
       "    .dataframe tbody tr th:only-of-type {\n",
       "        vertical-align: middle;\n",
       "    }\n",
       "\n",
       "    .dataframe tbody tr th {\n",
       "        vertical-align: top;\n",
       "    }\n",
       "\n",
       "    .dataframe thead th {\n",
       "        text-align: right;\n",
       "    }\n",
       "</style>\n",
       "<table border=\"1\" class=\"dataframe\">\n",
       "  <thead>\n",
       "    <tr style=\"text-align: right;\">\n",
       "      <th></th>\n",
       "      <th>TransactionID</th>\n",
       "      <th>Amount</th>\n",
       "      <th>Time</th>\n",
       "      <th>IsFraud</th>\n",
       "    </tr>\n",
       "  </thead>\n",
       "  <tbody>\n",
       "    <tr>\n",
       "      <th>count</th>\n",
       "      <td>50000.000000</td>\n",
       "      <td>50000.000000</td>\n",
       "      <td>50000.000000</td>\n",
       "      <td>50000.000000</td>\n",
       "    </tr>\n",
       "    <tr>\n",
       "      <th>mean</th>\n",
       "      <td>24999.500000</td>\n",
       "      <td>100.751478</td>\n",
       "      <td>43065.938660</td>\n",
       "      <td>0.020340</td>\n",
       "    </tr>\n",
       "    <tr>\n",
       "      <th>std</th>\n",
       "      <td>14433.901067</td>\n",
       "      <td>100.310269</td>\n",
       "      <td>25035.932003</td>\n",
       "      <td>0.141162</td>\n",
       "    </tr>\n",
       "    <tr>\n",
       "      <th>min</th>\n",
       "      <td>0.000000</td>\n",
       "      <td>0.000000</td>\n",
       "      <td>6.000000</td>\n",
       "      <td>0.000000</td>\n",
       "    </tr>\n",
       "    <tr>\n",
       "      <th>25%</th>\n",
       "      <td>12499.750000</td>\n",
       "      <td>28.750000</td>\n",
       "      <td>21430.500000</td>\n",
       "      <td>0.000000</td>\n",
       "    </tr>\n",
       "    <tr>\n",
       "      <th>50%</th>\n",
       "      <td>24999.500000</td>\n",
       "      <td>70.215000</td>\n",
       "      <td>42906.500000</td>\n",
       "      <td>0.000000</td>\n",
       "    </tr>\n",
       "    <tr>\n",
       "      <th>75%</th>\n",
       "      <td>37499.250000</td>\n",
       "      <td>140.500000</td>\n",
       "      <td>64714.750000</td>\n",
       "      <td>0.000000</td>\n",
       "    </tr>\n",
       "    <tr>\n",
       "      <th>max</th>\n",
       "      <td>49999.000000</td>\n",
       "      <td>1133.360000</td>\n",
       "      <td>86394.000000</td>\n",
       "      <td>1.000000</td>\n",
       "    </tr>\n",
       "  </tbody>\n",
       "</table>\n",
       "</div>"
      ],
      "text/plain": [
       "       TransactionID        Amount          Time       IsFraud\n",
       "count   50000.000000  50000.000000  50000.000000  50000.000000\n",
       "mean    24999.500000    100.751478  43065.938660      0.020340\n",
       "std     14433.901067    100.310269  25035.932003      0.141162\n",
       "min         0.000000      0.000000      6.000000      0.000000\n",
       "25%     12499.750000     28.750000  21430.500000      0.000000\n",
       "50%     24999.500000     70.215000  42906.500000      0.000000\n",
       "75%     37499.250000    140.500000  64714.750000      0.000000\n",
       "max     49999.000000   1133.360000  86394.000000      1.000000"
      ]
     },
     "execution_count": 194,
     "metadata": {},
     "output_type": "execute_result"
    }
   ],
   "source": [
    "df.describe()"
   ]
  },
  {
   "cell_type": "markdown",
   "id": "4638f9fb",
   "metadata": {},
   "source": [
    "**Observation**\n",
    "- **Amounts**: Avg ≈ **$100**; 75% of transactions are below **$139**; max **$1,021** (possible outlier).  \n",
    "- **Time**: Spans **1–86,397s (~24h)**, evenly distributed across the day.  \n",
    "- **Fraud**: Only **~2% fraudulent**, confirming a **highly imbalanced dataset**.  \n",
    "- **TransactionID**: Just an identifier, not a predictive feature. "
   ]
  },
  {
   "cell_type": "code",
   "execution_count": 115,
   "id": "418f57bb",
   "metadata": {},
   "outputs": [
    {
     "data": {
      "text/plain": [
       "TransactionID    0\n",
       "Amount           0\n",
       "Time             0\n",
       "Location         0\n",
       "Device           0\n",
       "IsFraud          0\n",
       "dtype: int64"
      ]
     },
     "execution_count": 115,
     "metadata": {},
     "output_type": "execute_result"
    }
   ],
   "source": [
    "df.isnull().sum()"
   ]
  },
  {
   "cell_type": "markdown",
   "id": "7701b6a1",
   "metadata": {},
   "source": [
    "**Observation**\n",
    "- The dataset contains **no missing values** across all features, so **no imputation is required** at this stage.\n"
   ]
  },
  {
   "cell_type": "code",
   "execution_count": 116,
   "id": "02c13080",
   "metadata": {},
   "outputs": [
    {
     "name": "stdout",
     "output_type": "stream",
     "text": [
      "The Duplicated Rows in the Data = 0\n"
     ]
    }
   ],
   "source": [
    "print(\"The Duplicated Rows in the Data = {}\".format(df.duplicated().sum()))"
   ]
  },
  {
   "cell_type": "markdown",
   "id": "e36daa97",
   "metadata": {},
   "source": [
    "\n",
    "\n",
    "**Observation** \n",
    "- The dataset contains **no duplicate records**, ensuring data consistency and integrity.  \n"
   ]
  },
  {
   "cell_type": "markdown",
   "id": "6102e41f",
   "metadata": {},
   "source": [
    "<!-- ===== Gradient Header ===== -->\n",
    "<p style=\"background: linear-gradient(90deg, #fbc2eb, #a6c1ee);\n",
    "         font-family: 'Montserrat', sans-serif;\n",
    "         font-size: 24px;\n",
    "         text-align: center;\n",
    "         color: #1f1f1f;\n",
    "         padding: 22px 42px;\n",
    "         border-radius: 30px;\n",
    "         border: 3px solid #8fa6dc;\n",
    "         box-shadow: 0 8px 20px rgba(0,0,0,0.15);\n",
    "         letter-spacing: 1.1px;\n",
    "         word-spacing: 4px;\n",
    "         font-weight: 700;\n",
    "         text-shadow: 1px 1px 2px rgba(0,0,0,0.08);\n",
    "         margin: 10px 0 18px;\">\n",
    "   Feature : Transaction ID\n",
    "</p>\n"
   ]
  },
  {
   "cell_type": "code",
   "execution_count": 121,
   "id": "a210e5c8",
   "metadata": {},
   "outputs": [
    {
     "name": "stdout",
     "output_type": "stream",
     "text": [
      "The Minimum ID is 0\n",
      "The Maximum ID is 49999\n"
     ]
    }
   ],
   "source": [
    "# Get the min and max values of the id column\n",
    "print(\"The Minimum ID is {}\".format(df['TransactionID'].min()))\n",
    "print(\"The Maximum ID is {}\".format(df['TransactionID'].max()))"
   ]
  },
  {
   "cell_type": "markdown",
   "id": "77aa5a6c",
   "metadata": {},
   "source": [
    "<!-- ===== Gradient Header ===== -->\n",
    "<p style=\"background: linear-gradient(90deg, #fbc2eb, #a6c1ee);\n",
    "         font-family: 'Montserrat', sans-serif;\n",
    "         font-size: 24px;\n",
    "         text-align: center;\n",
    "         color: #1f1f1f;\n",
    "         padding: 22px 42px;\n",
    "         border-radius: 30px;\n",
    "         border: 3px solid #8fa6dc;\n",
    "         box-shadow: 0 8px 20px rgba(0,0,0,0.15);\n",
    "         letter-spacing: 1.1px;\n",
    "         word-spacing: 4px;\n",
    "         font-weight: 700;\n",
    "         text-shadow: 1px 1px 2px rgba(0,0,0,0.08);\n",
    "         margin: 10px 0 18px;\">\n",
    "   Feature : Amount\n",
    "</p>\n"
   ]
  },
  {
   "cell_type": "code",
   "execution_count": 200,
   "id": "a8b60e88",
   "metadata": {},
   "outputs": [
    {
     "name": "stdout",
     "output_type": "stream",
     "text": [
      "The Minimum Amount is 0.0 $\n",
      "The Maximum Amount is 1133.36 $\n"
     ]
    }
   ],
   "source": [
    "# Get the min and max values of the amount column\n",
    "print(\"The Minimum Amount is {} $\".format(df['Amount'].min()))\n",
    "print(\"The Maximum Amount is {} $\".format(df['Amount'].max()))"
   ]
  },
  {
   "cell_type": "code",
   "execution_count": 123,
   "id": "2de37fd2",
   "metadata": {},
   "outputs": [
    {
     "name": "stdout",
     "output_type": "stream",
     "text": [
      "Mean: 100.33516000000002\n",
      "Median: 69.07499999999999\n",
      "Mode: 3.87\n"
     ]
    }
   ],
   "source": [
    "# Print the mean, median and mode\n",
    "print(f\"Mean: {df['Amount'].mean()}\")\n",
    "print(f\"Median: {df['Amount'].median()}\")\n",
    "print(f\"Mode: {df['Amount'].mode()[0]}\")"
   ]
  },
  {
   "cell_type": "code",
   "execution_count": 124,
   "id": "0df051c1",
   "metadata": {},
   "outputs": [
    {
     "data": {
      "image/png": "[encoded data removed]",
      "text/plain": [
       "<Figure size 800x500 with 1 Axes>"
      ]
     },
     "metadata": {},
     "output_type": "display_data"
    }
   ],
   "source": [
    "# Transaction Amount Distribution\n",
    "plt.figure(figsize=(8,5))\n",
    "sns.histplot(df['Amount'], bins=100, kde=True)\n",
    "plt.axvline(df['Amount'].median(), color='g')\n",
    "plt.axvline(df['Amount'].mean(), color='r')\n",
    "plt.axvline(df['Amount'].mode()[0], color='y')\n",
    "\n",
    "plt.title(\"Transaction Amount Distribution\")\n",
    "plt.show()"
   ]
  },
  {
   "cell_type": "markdown",
   "id": "12e4af1c",
   "metadata": {},
   "source": [
    "**Observation**\n",
    "- The **average transaction amount** is about **$100.75**, but there’s **high variability** (std ≈ 100).  \n",
    "- 50% of transactions are below **$70.22**, and 75% are below **$140.50**.  \n",
    "- The **maximum amount $1,133.36** is much larger than the mean → indicates **skewness & potential outliers**.  \n",
    "- This justifies applying a **log transformation** to stabilize variance and reduce skew. "
   ]
  },
  {
   "cell_type": "markdown",
   "id": "68228965",
   "metadata": {},
   "source": [
    "<!-- ===== Gradient Header ===== -->\n",
    "<p style=\"background: linear-gradient(90deg, #fbc2eb, #a6c1ee);\n",
    "         font-family: 'Montserrat', sans-serif;\n",
    "         font-size: 24px;\n",
    "         text-align: center;\n",
    "         color: #1f1f1f;\n",
    "         padding: 22px 42px;\n",
    "         border-radius: 30px;\n",
    "         border: 3px solid #8fa6dc;\n",
    "         box-shadow: 0 8px 20px rgba(0,0,0,0.15);\n",
    "         letter-spacing: 1.1px;\n",
    "         word-spacing: 4px;\n",
    "         font-weight: 700;\n",
    "         text-shadow: 1px 1px 2px rgba(0,0,0,0.08);\n",
    "         margin: 10px 0 18px;\">\n",
    "   Feature : Time\n",
    "</p>\n"
   ]
  },
  {
   "cell_type": "code",
   "execution_count": 199,
   "id": "6f52bab6",
   "metadata": {},
   "outputs": [
    {
     "name": "stdout",
     "output_type": "stream",
     "text": [
      "The Minimum Time is 6 second\n",
      "The Maximum Time is 86394 second\n"
     ]
    }
   ],
   "source": [
    "# Get the min and max values of the Time column\n",
    "print(\"The Minimum Time is {} second\".format(df['Time'].min()))\n",
    "print(\"The Maximum Time is {} second\".format(df['Time'].max()))"
   ]
  },
  {
   "cell_type": "code",
   "execution_count": 126,
   "id": "6c662a4a",
   "metadata": {},
   "outputs": [
    {
     "name": "stdout",
     "output_type": "stream",
     "text": [
      "Mean: 43437.94278\n",
      "Median: 43523.5\n",
      "Mode: 73569\n"
     ]
    }
   ],
   "source": [
    "# Print the mean, median and mode\n",
    "print(f\"Mean: {df['Time'].mean()}\")\n",
    "print(f\"Median: {df['Time'].median()}\")\n",
    "print(f\"Mode: {df['Time'].mode()[0]}\")"
   ]
  },
  {
   "cell_type": "code",
   "execution_count": 127,
   "id": "66eda3cd",
   "metadata": {},
   "outputs": [
    {
     "data": {
      "image/png": "[encoded data removed]",
      "text/plain": [
       "<Figure size 800x500 with 1 Axes>"
      ]
     },
     "metadata": {},
     "output_type": "display_data"
    }
   ],
   "source": [
    "# Transaction Time Distribution\n",
    "plt.figure(figsize=(8,5))\n",
    "sns.histplot(df['Time'], bins=50, kde=False)\n",
    "plt.axvline(df['Time'].mean(), color='r')\n",
    "plt.axvline(df['Time'].median(), color='g')\n",
    "plt.axvline(df['Time'].mode()[0], color='y')\n",
    "plt.title(\"Transaction Time of Day Distribution\")\n",
    "plt.show()"
   ]
  },
  {
   "cell_type": "markdown",
   "id": "edde8938",
   "metadata": {},
   "source": [
    "**Observation**\n",
    "- The `Time` feature spans **6 to 86,394 seconds**, almost a full day (~24h = 86,400s).  \n",
    "- Median ≈ **42,907s (~11.9h)**, meaning half the transactions occur before midday.  \n",
    "- The distribution appears **uniform across the day**, with no strong concentration in specific time intervals.  \n",
    "- Could be useful for **time-based fraud detection patterns** (e.g., unusual hours).  \n"
   ]
  },
  {
   "cell_type": "code",
   "execution_count": 197,
   "id": "b35620eb",
   "metadata": {},
   "outputs": [
    {
     "data": {
      "text/plain": [
       "Index(['TransactionID', 'Amount', 'Time', 'Location', 'Device', 'IsFraud'], dtype='object')"
      ]
     },
     "execution_count": 197,
     "metadata": {},
     "output_type": "execute_result"
    }
   ],
   "source": [
    "df.columns"
   ]
  },
  {
   "cell_type": "markdown",
   "id": "990407ae",
   "metadata": {},
   "source": [
    "<!-- ===== Gradient Header ===== -->\n",
    "<p style=\"background: linear-gradient(90deg, #fbc2eb, #a6c1ee);\n",
    "         font-family: 'Montserrat', sans-serif;\n",
    "         font-size: 24px;\n",
    "         text-align: center;\n",
    "         color: #1f1f1f;\n",
    "         padding: 22px 42px;\n",
    "         border-radius: 30px;\n",
    "         border: 3px solid #8fa6dc;\n",
    "         box-shadow: 0 8px 20px rgba(0,0,0,0.15);\n",
    "         letter-spacing: 1.1px;\n",
    "         word-spacing: 4px;\n",
    "         font-weight: 700;\n",
    "         text-shadow: 1px 1px 2px rgba(0,0,0,0.08);\n",
    "         margin: 10px 0 18px;\">\n",
    "   Feature : Location\n",
    "</p>\n"
   ]
  },
  {
   "cell_type": "code",
   "execution_count": 204,
   "id": "3b35ee59",
   "metadata": {},
   "outputs": [
    {
     "name": "stdout",
     "output_type": "stream",
     "text": [
      "The Unique Locations of the Transactions are : ['TX' 'CA' 'NY' 'FL']\n"
     ]
    }
   ],
   "source": [
    "# Get the unique types of locations of transactions \n",
    "print(\"The Unique Locations of the Transactions are : {}\".format(df['Location'].unique()))"
   ]
  },
  {
   "cell_type": "markdown",
   "id": "62fbb322",
   "metadata": {},
   "source": [
    "**Observation**\n",
    "- The dataset contains a categorical column **`Location`**, which represents the U.S. state where each transaction was made.  \n",
    "\n",
    "- The unique values are:  \n",
    "\n",
    "  - **TX** → Texas  \n",
    "  - **CA** → California  \n",
    "  - **NY** → New York  \n",
    "  - **FL** → Florida  \n"
   ]
  },
  {
   "cell_type": "code",
   "execution_count": 202,
   "id": "6c786452",
   "metadata": {},
   "outputs": [
    {
     "data": {
      "text/plain": [
       "Location\n",
       "NY    12644\n",
       "FL    12476\n",
       "CA    12468\n",
       "TX    12412\n",
       "Name: count, dtype: int64"
      ]
     },
     "execution_count": 202,
     "metadata": {},
     "output_type": "execute_result"
    }
   ],
   "source": [
    "df['Location'].value_counts()"
   ]
  },
  {
   "cell_type": "code",
   "execution_count": 205,
   "id": "5409b5ce",
   "metadata": {},
   "outputs": [
    {
     "data": {
      "image/png": "[encoded data removed]",
      "text/plain": [
       "<Figure size 1200x500 with 2 Axes>"
      ]
     },
     "metadata": {},
     "output_type": "display_data"
    }
   ],
   "source": [
    "# Create the plot for the location distribution\n",
    "\n",
    "fig, axes = plt.subplots(1, 2, figsize=(12,5))\n",
    "\n",
    "# Pie chart\n",
    "df['Location'].value_counts().plot.pie(autopct='%1.1f%%', ax=axes[0])\n",
    "axes[0].set_title(\"Location Distribution (Pie)\")\n",
    "\n",
    "# Count plot\n",
    "sns.countplot(x='Location',hue='Location', data=df, ax=axes[1])\n",
    "axes[1].set_title(\"Location vs Non-Fraud (Count)\")\n",
    "\n",
    "plt.show()"
   ]
  },
  {
   "cell_type": "markdown",
   "id": "47c0169e",
   "metadata": {},
   "source": [
    "**Observation**\n",
    "- The distribution is **fairly balanced** across all four states.  \n",
    "- No state dominates the dataset, which helps in reducing **location bias** during fraud detection model training.  \n",
    "- This balance ensures that the model does not unfairly associate fraud with one particular state due to skewed data.  "
   ]
  },
  {
   "cell_type": "markdown",
   "id": "80e2dad9",
   "metadata": {},
   "source": [
    "<!-- ===== Gradient Header ===== -->\n",
    "<p style=\"background: linear-gradient(90deg, #fbc2eb, #a6c1ee);\n",
    "         font-family: 'Montserrat', sans-serif;\n",
    "         font-size: 24px;\n",
    "         text-align: center;\n",
    "         color: #1f1f1f;\n",
    "         padding: 22px 42px;\n",
    "         border-radius: 30px;\n",
    "         border: 3px solid #8fa6dc;\n",
    "         box-shadow: 0 8px 20px rgba(0,0,0,0.15);\n",
    "         letter-spacing: 1.1px;\n",
    "         word-spacing: 4px;\n",
    "         font-weight: 700;\n",
    "         text-shadow: 1px 1px 2px rgba(0,0,0,0.08);\n",
    "         margin: 10px 0 18px;\">\n",
    "   Feature : Device\n",
    "</p>\n"
   ]
  },
  {
   "cell_type": "code",
   "execution_count": null,
   "id": "39526dfc",
   "metadata": {},
   "outputs": [
    {
     "name": "stdout",
     "output_type": "stream",
     "text": [
      "The Unique Devices of the Transactions are : ['ATM' 'Web' 'Mobile']\n"
     ]
    }
   ],
   "source": [
    "# Get the unique types of devices of transactions \n",
    "print(\"The Unique Devices of the Transactions are : {}\".format(df['Device'].unique()))"
   ]
  },
  {
   "cell_type": "code",
   "execution_count": 208,
   "id": "91248b31",
   "metadata": {},
   "outputs": [
    {
     "data": {
      "text/plain": [
       "Device\n",
       "ATM       16846\n",
       "Web       16624\n",
       "Mobile    16530\n",
       "Name: count, dtype: int64"
      ]
     },
     "execution_count": 208,
     "metadata": {},
     "output_type": "execute_result"
    }
   ],
   "source": [
    "df['Device'].value_counts()"
   ]
  },
  {
   "cell_type": "code",
   "execution_count": 206,
   "id": "b7aafd2e",
   "metadata": {},
   "outputs": [
    {
     "data": {
      "image/png": "[encoded data removed]",
      "text/plain": [
       "<Figure size 1200x500 with 2 Axes>"
      ]
     },
     "metadata": {},
     "output_type": "display_data"
    }
   ],
   "source": [
    "fig, axes = plt.subplots(1, 2, figsize=(12,5))\n",
    "\n",
    "# Pie plot (fraud vs non-fraud overall)\n",
    "df['Device'].value_counts().plot.pie(autopct='%1.1f%%', ax=axes[0])\n",
    "axes[0].set_title(\"Device Distribution\")\n",
    "\n",
    "# Count plot (by location)\n",
    "sns.countplot(x='Device', hue='IsFraud', data=df, ax=axes[1])\n",
    "axes[1].set_title(\"Fraud vs Non-Fraud by Device\")\n",
    "\n",
    "plt.show()\n"
   ]
  },
  {
   "cell_type": "markdown",
   "id": "3c686422",
   "metadata": {},
   "source": [
    "**Observation**\n",
    "- Transactions are **well-balanced** across devices.  \n",
    "- **ATM** is the most used channel, followed by **Web** and **Mobile**, but the differences are small.  \n",
    "- This balance reduces the risk of **device-type bias** in modeling.  \n"
   ]
  },
  {
   "cell_type": "markdown",
   "id": "94acd6fc",
   "metadata": {},
   "source": [
    "<!-- ===== Gradient Header ===== -->\n",
    "<p style=\"background: linear-gradient(90deg, #fbc2eb, #a6c1ee);\n",
    "         font-family: 'Montserrat', sans-serif;\n",
    "         font-size: 24px;\n",
    "         text-align: center;\n",
    "         color: #1f1f1f;\n",
    "         padding: 22px 42px;\n",
    "         border-radius: 30px;\n",
    "         border: 3px solid #8fa6dc;\n",
    "         box-shadow: 0 8px 20px rgba(0,0,0,0.15);\n",
    "         letter-spacing: 1.1px;\n",
    "         word-spacing: 4px;\n",
    "         font-weight: 700;\n",
    "         text-shadow: 1px 1px 2px rgba(0,0,0,0.08);\n",
    "         margin: 10px 0 18px;\">\n",
    "    Feature : IsFraud\n",
    "</p>\n"
   ]
  },
  {
   "cell_type": "code",
   "execution_count": 128,
   "id": "81eec2ac",
   "metadata": {},
   "outputs": [
    {
     "name": "stdout",
     "output_type": "stream",
     "text": [
      "The unique values in the IsFraud column = [0 1]\n"
     ]
    }
   ],
   "source": [
    "print(\"The unique values in the IsFraud column = {}\".format(df['IsFraud'].unique()))"
   ]
  },
  {
   "cell_type": "code",
   "execution_count": 129,
   "id": "89dcc71d",
   "metadata": {},
   "outputs": [
    {
     "data": {
      "text/plain": [
       "IsFraud\n",
       "0    48971\n",
       "1     1029\n",
       "Name: count, dtype: int64"
      ]
     },
     "execution_count": 129,
     "metadata": {},
     "output_type": "execute_result"
    }
   ],
   "source": [
    "df['IsFraud'].value_counts()"
   ]
  },
  {
   "cell_type": "code",
   "execution_count": 130,
   "id": "9b214030",
   "metadata": {},
   "outputs": [
    {
     "data": {
      "image/png": "[encoded data removed]",
      "text/plain": [
       "<Figure size 1200x500 with 2 Axes>"
      ]
     },
     "metadata": {},
     "output_type": "display_data"
    }
   ],
   "source": [
    "fig, axes = plt.subplots(1, 2, figsize=(12,5))\n",
    "\n",
    "# Pie chart\n",
    "df['IsFraud'].value_counts().plot.pie(autopct='%1.1f%%', ax=axes[0])\n",
    "axes[0].set_title(\"Fraud Distribution (Pie)\")\n",
    "\n",
    "# Count plot\n",
    "sns.countplot(x='IsFraud',hue='IsFraud', data=df, ax=axes[1])\n",
    "axes[1].set_title(\"Fraud vs Non-Fraud (Count)\")\n",
    "\n",
    "plt.show()\n"
   ]
  },
  {
   "cell_type": "markdown",
   "id": "10658c8e",
   "metadata": {},
   "source": [
    "**Observation** \n",
    "- The dataset is **highly imbalanced**, with only **~2% fraudulent transactions**.  \n",
    "- This imbalance requires careful handling, e.g., **resampling techniques (SMOTE/undersampling)** or **class-weighted models** for accurate fraud detection.  \n"
   ]
  },
  {
   "cell_type": "markdown",
   "id": "66395fdb",
   "metadata": {},
   "source": [
    "<!-- ===== Gradient Header ===== -->\n",
    "<p style=\"background: linear-gradient(90deg, #fbc2eb, #a6c1ee);\n",
    "         font-family: 'Montserrat', sans-serif;\n",
    "         font-size: 24px;\n",
    "         text-align: center;\n",
    "         color: #1f1f1f;\n",
    "         padding: 22px 42px;\n",
    "         border-radius: 30px;\n",
    "         border: 3px solid #8fa6dc;\n",
    "         box-shadow: 0 8px 20px rgba(0,0,0,0.15);\n",
    "         letter-spacing: 1.1px;\n",
    "         word-spacing: 4px;\n",
    "         font-weight: 700;\n",
    "         text-shadow: 1px 1px 2px rgba(0,0,0,0.08);\n",
    "         margin: 10px 0 18px;\">\n",
    "   Correlation\n",
    "</p>\n"
   ]
  },
  {
   "cell_type": "code",
   "execution_count": 213,
   "id": "18f4a0e7",
   "metadata": {},
   "outputs": [
    {
     "data": {
      "text/html": [
       "<div>\n",
       "<style scoped>\n",
       "    .dataframe tbody tr th:only-of-type {\n",
       "        vertical-align: middle;\n",
       "    }\n",
       "\n",
       "    .dataframe tbody tr th {\n",
       "        vertical-align: top;\n",
       "    }\n",
       "\n",
       "    .dataframe thead th {\n",
       "        text-align: right;\n",
       "    }\n",
       "</style>\n",
       "<table border=\"1\" class=\"dataframe\">\n",
       "  <thead>\n",
       "    <tr style=\"text-align: right;\">\n",
       "      <th></th>\n",
       "      <th>TransactionID</th>\n",
       "      <th>Amount</th>\n",
       "      <th>Time</th>\n",
       "      <th>IsFraud</th>\n",
       "    </tr>\n",
       "  </thead>\n",
       "  <tbody>\n",
       "    <tr>\n",
       "      <th>TransactionID</th>\n",
       "      <td>1.000000</td>\n",
       "      <td>0.002932</td>\n",
       "      <td>0.001493</td>\n",
       "      <td>0.000664</td>\n",
       "    </tr>\n",
       "    <tr>\n",
       "      <th>Amount</th>\n",
       "      <td>0.002932</td>\n",
       "      <td>1.000000</td>\n",
       "      <td>-0.004925</td>\n",
       "      <td>-0.002222</td>\n",
       "    </tr>\n",
       "    <tr>\n",
       "      <th>Time</th>\n",
       "      <td>0.001493</td>\n",
       "      <td>-0.004925</td>\n",
       "      <td>1.000000</td>\n",
       "      <td>-0.003504</td>\n",
       "    </tr>\n",
       "    <tr>\n",
       "      <th>IsFraud</th>\n",
       "      <td>0.000664</td>\n",
       "      <td>-0.002222</td>\n",
       "      <td>-0.003504</td>\n",
       "      <td>1.000000</td>\n",
       "    </tr>\n",
       "  </tbody>\n",
       "</table>\n",
       "</div>"
      ],
      "text/plain": [
       "               TransactionID    Amount      Time   IsFraud\n",
       "TransactionID       1.000000  0.002932  0.001493  0.000664\n",
       "Amount              0.002932  1.000000 -0.004925 -0.002222\n",
       "Time                0.001493 -0.004925  1.000000 -0.003504\n",
       "IsFraud             0.000664 -0.002222 -0.003504  1.000000"
      ]
     },
     "execution_count": 213,
     "metadata": {},
     "output_type": "execute_result"
    }
   ],
   "source": [
    "df.corr(numeric_only=True)"
   ]
  },
  {
   "cell_type": "markdown",
   "id": "bf95e7c6",
   "metadata": {},
   "source": []
  },
  {
   "cell_type": "code",
   "execution_count": 134,
   "id": "3f12b1ab",
   "metadata": {},
   "outputs": [
    {
     "data": {
      "image/png": "[encoded data removed]",
      "text/plain": [
       "<Figure size 700x500 with 2 Axes>"
      ]
     },
     "metadata": {},
     "output_type": "display_data"
    }
   ],
   "source": [
    "df_corr = df.corr(numeric_only=True)\n",
    "plt.figure(figsize=(7,5))\n",
    "sns.heatmap(df_corr, annot=True, cmap=\"coolwarm\", fmt=\".2f\")\n",
    "plt.title(\"Correlation Heatmap\")\n",
    "plt.show()\n"
   ]
  },
  {
   "cell_type": "markdown",
   "id": "53aaf24a",
   "metadata": {},
   "source": [
    "**Observation**\n",
    "- **No strong correlations** exist between features; all correlation values are **very close to 0**.  \n",
    "- `TransactionID`, `Amount`, and `Time` have **negligible correlation with `IsFraud`**, suggesting that fraud is not directly predictable from these raw numerical features alone.  \n",
    "- This indicates the need for **feature engineering or additional behavioral features** to improve fraud detection.  "
   ]
  },
  {
   "cell_type": "code",
   "execution_count": 215,
   "id": "c84da24a",
   "metadata": {},
   "outputs": [
    {
     "data": {
      "text/html": [
       "<div>\n",
       "<style scoped>\n",
       "    .dataframe tbody tr th:only-of-type {\n",
       "        vertical-align: middle;\n",
       "    }\n",
       "\n",
       "    .dataframe tbody tr th {\n",
       "        vertical-align: top;\n",
       "    }\n",
       "\n",
       "    .dataframe thead th {\n",
       "        text-align: right;\n",
       "    }\n",
       "</style>\n",
       "<table border=\"1\" class=\"dataframe\">\n",
       "  <thead>\n",
       "    <tr style=\"text-align: right;\">\n",
       "      <th></th>\n",
       "      <th>TransactionID</th>\n",
       "      <th>Amount</th>\n",
       "      <th>Time</th>\n",
       "      <th>Location</th>\n",
       "      <th>Device</th>\n",
       "      <th>IsFraud</th>\n",
       "    </tr>\n",
       "  </thead>\n",
       "  <tbody>\n",
       "    <tr>\n",
       "      <th>0</th>\n",
       "      <td>0</td>\n",
       "      <td>35.79</td>\n",
       "      <td>50557</td>\n",
       "      <td>TX</td>\n",
       "      <td>ATM</td>\n",
       "      <td>0</td>\n",
       "    </tr>\n",
       "    <tr>\n",
       "      <th>1</th>\n",
       "      <td>1</td>\n",
       "      <td>19.70</td>\n",
       "      <td>21863</td>\n",
       "      <td>CA</td>\n",
       "      <td>Web</td>\n",
       "      <td>0</td>\n",
       "    </tr>\n",
       "    <tr>\n",
       "      <th>2</th>\n",
       "      <td>2</td>\n",
       "      <td>518.76</td>\n",
       "      <td>62028</td>\n",
       "      <td>CA</td>\n",
       "      <td>ATM</td>\n",
       "      <td>0</td>\n",
       "    </tr>\n",
       "    <tr>\n",
       "      <th>3</th>\n",
       "      <td>3</td>\n",
       "      <td>57.68</td>\n",
       "      <td>12863</td>\n",
       "      <td>CA</td>\n",
       "      <td>ATM</td>\n",
       "      <td>0</td>\n",
       "    </tr>\n",
       "    <tr>\n",
       "      <th>4</th>\n",
       "      <td>4</td>\n",
       "      <td>11.83</td>\n",
       "      <td>15627</td>\n",
       "      <td>NY</td>\n",
       "      <td>Mobile</td>\n",
       "      <td>0</td>\n",
       "    </tr>\n",
       "  </tbody>\n",
       "</table>\n",
       "</div>"
      ],
      "text/plain": [
       "   TransactionID  Amount   Time Location  Device  IsFraud\n",
       "0              0   35.79  50557       TX     ATM        0\n",
       "1              1   19.70  21863       CA     Web        0\n",
       "2              2  518.76  62028       CA     ATM        0\n",
       "3              3   57.68  12863       CA     ATM        0\n",
       "4              4   11.83  15627       NY  Mobile        0"
      ]
     },
     "execution_count": 215,
     "metadata": {},
     "output_type": "execute_result"
    }
   ],
   "source": [
    "# Let's view the first 5 rows of the dataset before preprocessing \n",
    "df.head()"
   ]
  },
  {
   "cell_type": "markdown",
   "id": "e666a233",
   "metadata": {},
   "source": [
    "<!-- ===== Gradient Header ===== -->\n",
    "<p style=\"background: linear-gradient(90deg, #fbc2eb, #a6c1ee);\n",
    "         font-family: 'Montserrat', sans-serif;\n",
    "         font-size: 24px;\n",
    "         text-align: center;\n",
    "         color: #1f1f1f;\n",
    "         padding: 22px 42px;\n",
    "         border-radius: 30px;\n",
    "         border: 3px solid #8fa6dc;\n",
    "         box-shadow: 0 8px 20px rgba(0,0,0,0.15);\n",
    "         letter-spacing: 1.1px;\n",
    "         word-spacing: 4px;\n",
    "         font-weight: 700;\n",
    "         text-shadow: 1px 1px 2px rgba(0,0,0,0.08);\n",
    "         margin: 10px 0 18px;\">\n",
    "  3. Data Preprocessing\n",
    "</p>\n"
   ]
  },
  {
   "cell_type": "code",
   "execution_count": 253,
   "id": "77ceb975",
   "metadata": {},
   "outputs": [],
   "source": [
    "df = df.drop('TransactionID',axis =1 )"
   ]
  },
  {
   "cell_type": "markdown",
   "id": "59bcfbbe",
   "metadata": {},
   "source": [
    "**Observation**\n",
    "- TransactionID is an auto-increment identifier and does not carry predictive information.\n",
    "- Removing it simplifies the dataset and avoids any misleading patterns in the model."
   ]
  },
  {
   "cell_type": "markdown",
   "id": "b1415323",
   "metadata": {},
   "source": [
    "<!-- ===== Gradient Header ===== -->\n",
    "<p style=\"background: linear-gradient(90deg, #fbc2eb, #a6c1ee);\n",
    "         font-family: 'Montserrat', sans-serif;\n",
    "         font-size: 24px;\n",
    "         text-align: center;\n",
    "         color: #1f1f1f;\n",
    "         padding: 22px 42px;\n",
    "         border-radius: 30px;\n",
    "         border: 3px solid #8fa6dc;\n",
    "         box-shadow: 0 8px 20px rgba(0,0,0,0.15);\n",
    "         letter-spacing: 1.1px;\n",
    "         word-spacing: 4px;\n",
    "         font-weight: 700;\n",
    "         text-shadow: 1px 1px 2px rgba(0,0,0,0.08);\n",
    "         margin: 10px 0 18px;\">\n",
    "  3.1 Outlier Detection\n",
    "</p>\n",
    "\n",
    "<!-- ===== Outlier Info Card ===== -->\n",
    "<div style=\"font-family:'Montserrat',sans-serif;\n",
    "            background:#ffffff;\n",
    "            padding:18px 20px;\n",
    "            border-radius:14px;\n",
    "            border:1px solid #e6f0ff;\n",
    "            box-shadow:0 6px 18px rgba(0,0,0,0.06);\n",
    "            color:#2a2a2a;\">\n",
    "  <div style=\"display:flex; align-items:center; gap:10px; margin-bottom:8px;\">\n",
    "    <span style=\"font-size:18px;\">📌</span>\n",
    "    <h3 style=\"margin:0; font-size:17px; color:#1f3b68;\">Why Handle Outliers?</h3>\n",
    "  </div>\n",
    "  <ul style=\"margin:10px 0 0 18px; padding:0; line-height:1.8; font-size:15px;\">\n",
    "    <li>Outliers, especially in the <code>Amount</code> feature, can \n",
    "        <b>distort statistical measures</b> and \n",
    "        <b>bias machine learning models</b>.</li>\n",
    "    <li>Detecting and handling outliers ensures that the model learns from \n",
    "        <b>typical transaction patterns</b> rather than extreme cases.</li>\n",
    "  </ul>\n",
    "</div>\n"
   ]
  },
  {
   "cell_type": "code",
   "execution_count": 161,
   "id": "29eebdcb",
   "metadata": {},
   "outputs": [
    {
     "data": {
      "image/png": "[encoded data removed]",
      "text/plain": [
       "<Figure size 600x400 with 1 Axes>"
      ]
     },
     "metadata": {},
     "output_type": "display_data"
    },
    {
     "data": {
      "image/png": "[encoded data removed]",
      "text/plain": [
       "<Figure size 600x400 with 1 Axes>"
      ]
     },
     "metadata": {},
     "output_type": "display_data"
    },
    {
     "data": {
      "image/png": "[encoded data removed]",
      "text/plain": [
       "<Figure size 600x400 with 1 Axes>"
      ]
     },
     "metadata": {},
     "output_type": "display_data"
    },
    {
     "data": {
      "image/png": "[encoded data removed]",
      "text/plain": [
       "<Figure size 600x400 with 1 Axes>"
      ]
     },
     "metadata": {},
     "output_type": "display_data"
    }
   ],
   "source": [
    "numeric_cols = df.select_dtypes(include=['int','float']).columns\n",
    "for col in numeric_cols:\n",
    "    plt.figure(figsize=(6,4))\n",
    "    sns.boxplot(x=df[col], color=\"skyblue\")\n",
    "    plt.title(f\"Boxplot of {col}\")\n",
    "    plt.show()\n"
   ]
  },
  {
   "cell_type": "markdown",
   "id": "181bea66",
   "metadata": {},
   "source": [
    "**Removing outliers may remove fraud signals**  \n",
    "   - Since fraud cases are already rare (~2%), dropping them would make the dataset even more imbalanced.  \n",
    "   - High-value transactions, even if rare, may carry **critical fraud information**."
   ]
  },
  {
   "cell_type": "markdown",
   "id": "107f3def",
   "metadata": {},
   "source": [
    "<!-- ===== Gradient Header ===== -->\n",
    "<p style=\"background: linear-gradient(90deg, #fbc2eb, #a6c1ee);\n",
    "         font-family: 'Montserrat', sans-serif;\n",
    "         font-size: 24px;\n",
    "         text-align: center;\n",
    "         color: #1f1f1f;\n",
    "         padding: 22px 42px;\n",
    "         border-radius: 30px;\n",
    "         border: 3px solid #8fa6dc;\n",
    "         box-shadow: 0 8px 20px rgba(0,0,0,0.15);\n",
    "         letter-spacing: 1.1px;\n",
    "         word-spacing: 4px;\n",
    "         font-weight: 700;\n",
    "         text-shadow: 1px 1px 2px rgba(0,0,0,0.08);\n",
    "         margin: 10px 0 18px;\">\n",
    "  3.2 Log Transformation\n",
    "</p>\n",
    "\n",
    "<!-- ===== Log Transformation Info Card ===== -->\n",
    "<div style=\"font-family:'Montserrat',sans-serif;\n",
    "            background:#ffffff;\n",
    "            padding:18px 20px;\n",
    "            border-radius:14px;\n",
    "            border:1px solid #e6f0ff;\n",
    "            box-shadow:0 6px 18px rgba(0,0,0,0.06);\n",
    "            color:#2a2a2a;\">\n",
    "  <div style=\"display:flex; align-items:center; gap:10px; margin-bottom:8px;\">\n",
    "    <span style=\"font-size:18px;\">🔍</span>\n",
    "    <h3 style=\"margin:0; font-size:17px; color:#1f3b68;\">Why Apply Log Transformation?</h3>\n",
    "  </div>\n",
    "  <ul style=\"margin:10px 0 0 18px; padding:0; line-height:1.8; font-size:15px;\">\n",
    "    <li>The <code>Amount</code> feature is highly <b>skewed</b> due to a few large transactions.</li>\n",
    "    <li>Applying a <b>log transformation</b> reduces skewness, stabilizes variance, and makes the data more suitable for most ML algorithms.</li>\n",
    "  </ul>\n",
    "</div>\n"
   ]
  },
  {
   "cell_type": "code",
   "execution_count": 252,
   "id": "2136cbc7",
   "metadata": {},
   "outputs": [
    {
     "data": {
      "text/html": [
       "<div>\n",
       "<style scoped>\n",
       "    .dataframe tbody tr th:only-of-type {\n",
       "        vertical-align: middle;\n",
       "    }\n",
       "\n",
       "    .dataframe tbody tr th {\n",
       "        vertical-align: top;\n",
       "    }\n",
       "\n",
       "    .dataframe thead th {\n",
       "        text-align: right;\n",
       "    }\n",
       "</style>\n",
       "<table border=\"1\" class=\"dataframe\">\n",
       "  <thead>\n",
       "    <tr style=\"text-align: right;\">\n",
       "      <th></th>\n",
       "      <th>TransactionID</th>\n",
       "      <th>Amount</th>\n",
       "      <th>Time</th>\n",
       "      <th>Location</th>\n",
       "      <th>Device</th>\n",
       "      <th>IsFraud</th>\n",
       "    </tr>\n",
       "  </thead>\n",
       "  <tbody>\n",
       "    <tr>\n",
       "      <th>0</th>\n",
       "      <td>0</td>\n",
       "      <td>3.629395</td>\n",
       "      <td>10.888352</td>\n",
       "      <td>1</td>\n",
       "      <td>0</td>\n",
       "      <td>0</td>\n",
       "    </tr>\n",
       "    <tr>\n",
       "      <th>1</th>\n",
       "      <td>1</td>\n",
       "      <td>4.582618</td>\n",
       "      <td>11.278607</td>\n",
       "      <td>0</td>\n",
       "      <td>0</td>\n",
       "      <td>0</td>\n",
       "    </tr>\n",
       "    <tr>\n",
       "      <th>2</th>\n",
       "      <td>2</td>\n",
       "      <td>1.355835</td>\n",
       "      <td>10.868797</td>\n",
       "      <td>1</td>\n",
       "      <td>0</td>\n",
       "      <td>0</td>\n",
       "    </tr>\n",
       "    <tr>\n",
       "      <th>3</th>\n",
       "      <td>3</td>\n",
       "      <td>4.385147</td>\n",
       "      <td>9.015663</td>\n",
       "      <td>1</td>\n",
       "      <td>2</td>\n",
       "      <td>0</td>\n",
       "    </tr>\n",
       "    <tr>\n",
       "      <th>4</th>\n",
       "      <td>4</td>\n",
       "      <td>2.738903</td>\n",
       "      <td>6.180017</td>\n",
       "      <td>1</td>\n",
       "      <td>2</td>\n",
       "      <td>0</td>\n",
       "    </tr>\n",
       "  </tbody>\n",
       "</table>\n",
       "</div>"
      ],
      "text/plain": [
       "   TransactionID    Amount       Time  Location  Device  IsFraud\n",
       "0              0  3.629395  10.888352         1       0        0\n",
       "1              1  4.582618  11.278607         0       0        0\n",
       "2              2  1.355835  10.868797         1       0        0\n",
       "3              3  4.385147   9.015663         1       2        0\n",
       "4              4  2.738903   6.180017         1       2        0"
      ]
     },
     "execution_count": 252,
     "metadata": {},
     "output_type": "execute_result"
    }
   ],
   "source": [
    "# Select only numeric columns\n",
    "numeric_cols = ['Amount','Time']\n",
    "\n",
    "# Apply log1p transformation\n",
    "df[numeric_cols] = df[numeric_cols].apply(np.log1p)\n",
    "\n",
    "# Check result\n",
    "df.head()\n"
   ]
  },
  {
   "cell_type": "markdown",
   "id": "04383dbc",
   "metadata": {},
   "source": [
    "<!-- ===== Gradient Header ===== -->\n",
    "<p style=\"background: linear-gradient(90deg, #fbc2eb, #a6c1ee);\n",
    "         font-family: 'Montserrat', sans-serif;\n",
    "         font-size: 24px;\n",
    "         text-align: center;\n",
    "         color: #1f1f1f;\n",
    "         padding: 22px 42px;\n",
    "         border-radius: 30px;\n",
    "         border: 3px solid #8fa6dc;\n",
    "         box-shadow: 0 8px 20px rgba(0,0,0,0.15);\n",
    "         letter-spacing: 1.1px;\n",
    "         word-spacing: 4px;\n",
    "         font-weight: 700;\n",
    "         text-shadow: 1px 1px 2px rgba(0,0,0,0.08);\n",
    "         margin: 10px 0 18px;\">\n",
    "  3.3 Label Encode\n",
    "</p>\n",
    "\n",
    "<!-- ===== Label Encoding Info Card ===== -->\n",
    "<div style=\"font-family:'Montserrat',sans-serif;\n",
    "            background:#ffffff;\n",
    "            padding:18px 20px;\n",
    "            border-radius:14px;\n",
    "            border:1px solid #e6f0ff;\n",
    "            box-shadow:0 6px 18px rgba(0,0,0,0.06);\n",
    "            color:#2a2a2a;\">\n",
    "  <div style=\"display:flex; align-items:center; gap:10px; margin-bottom:8px;\">\n",
    "    <span style=\"font-size:18px;\">🔤</span>\n",
    "    <h3 style=\"margin:0; font-size:17px; color:#1f3b68;\">Why Label Encoding?</h3>\n",
    "  </div>\n",
    "  <ul style=\"margin:10px 0 0 18px; padding:0; line-height:1.8; font-size:15px;\">\n",
    "    <li>Categorical features like <code>Location</code> and <code>Device</code> are \n",
    "        <b>non-numeric</b>, so ML models cannot interpret them directly.</li>\n",
    "    <li><b>Label encoding</b> converts these features into numerical form while preserving \n",
    "        <b>distinct categories</b>, enabling the model to process them effectively.</li>\n",
    "  </ul>\n",
    "</div>\n"
   ]
  },
  {
   "cell_type": "code",
   "execution_count": 238,
   "id": "d218ad27",
   "metadata": {},
   "outputs": [
    {
     "data": {
      "text/html": [
       "<div>\n",
       "<style scoped>\n",
       "    .dataframe tbody tr th:only-of-type {\n",
       "        vertical-align: middle;\n",
       "    }\n",
       "\n",
       "    .dataframe tbody tr th {\n",
       "        vertical-align: top;\n",
       "    }\n",
       "\n",
       "    .dataframe thead th {\n",
       "        text-align: right;\n",
       "    }\n",
       "</style>\n",
       "<table border=\"1\" class=\"dataframe\">\n",
       "  <thead>\n",
       "    <tr style=\"text-align: right;\">\n",
       "      <th></th>\n",
       "      <th>TransactionID</th>\n",
       "      <th>Amount</th>\n",
       "      <th>Time</th>\n",
       "      <th>Location</th>\n",
       "      <th>Device</th>\n",
       "      <th>IsFraud</th>\n",
       "    </tr>\n",
       "  </thead>\n",
       "  <tbody>\n",
       "    <tr>\n",
       "      <th>0</th>\n",
       "      <td>0</td>\n",
       "      <td>35.79</td>\n",
       "      <td>50557</td>\n",
       "      <td>TX</td>\n",
       "      <td>ATM</td>\n",
       "      <td>0</td>\n",
       "    </tr>\n",
       "    <tr>\n",
       "      <th>1</th>\n",
       "      <td>1</td>\n",
       "      <td>19.70</td>\n",
       "      <td>21863</td>\n",
       "      <td>CA</td>\n",
       "      <td>Web</td>\n",
       "      <td>0</td>\n",
       "    </tr>\n",
       "    <tr>\n",
       "      <th>2</th>\n",
       "      <td>2</td>\n",
       "      <td>518.76</td>\n",
       "      <td>62028</td>\n",
       "      <td>CA</td>\n",
       "      <td>ATM</td>\n",
       "      <td>0</td>\n",
       "    </tr>\n",
       "    <tr>\n",
       "      <th>3</th>\n",
       "      <td>3</td>\n",
       "      <td>57.68</td>\n",
       "      <td>12863</td>\n",
       "      <td>CA</td>\n",
       "      <td>ATM</td>\n",
       "      <td>0</td>\n",
       "    </tr>\n",
       "    <tr>\n",
       "      <th>4</th>\n",
       "      <td>4</td>\n",
       "      <td>11.83</td>\n",
       "      <td>15627</td>\n",
       "      <td>NY</td>\n",
       "      <td>Mobile</td>\n",
       "      <td>0</td>\n",
       "    </tr>\n",
       "  </tbody>\n",
       "</table>\n",
       "</div>"
      ],
      "text/plain": [
       "   TransactionID  Amount   Time Location  Device  IsFraud\n",
       "0              0   35.79  50557       TX     ATM        0\n",
       "1              1   19.70  21863       CA     Web        0\n",
       "2              2  518.76  62028       CA     ATM        0\n",
       "3              3   57.68  12863       CA     ATM        0\n",
       "4              4   11.83  15627       NY  Mobile        0"
      ]
     },
     "execution_count": 238,
     "metadata": {},
     "output_type": "execute_result"
    }
   ],
   "source": [
    "df.head()"
   ]
  },
  {
   "cell_type": "code",
   "execution_count": 249,
   "id": "9cea2063",
   "metadata": {},
   "outputs": [
    {
     "data": {
      "text/html": [
       "<div>\n",
       "<style scoped>\n",
       "    .dataframe tbody tr th:only-of-type {\n",
       "        vertical-align: middle;\n",
       "    }\n",
       "\n",
       "    .dataframe tbody tr th {\n",
       "        vertical-align: top;\n",
       "    }\n",
       "\n",
       "    .dataframe thead th {\n",
       "        text-align: right;\n",
       "    }\n",
       "</style>\n",
       "<table border=\"1\" class=\"dataframe\">\n",
       "  <thead>\n",
       "    <tr style=\"text-align: right;\">\n",
       "      <th></th>\n",
       "      <th>TransactionID</th>\n",
       "      <th>Amount</th>\n",
       "      <th>Time</th>\n",
       "      <th>Location</th>\n",
       "      <th>Device</th>\n",
       "      <th>IsFraud</th>\n",
       "    </tr>\n",
       "  </thead>\n",
       "  <tbody>\n",
       "    <tr>\n",
       "      <th>0</th>\n",
       "      <td>0</td>\n",
       "      <td>36.69</td>\n",
       "      <td>53548</td>\n",
       "      <td>1</td>\n",
       "      <td>0</td>\n",
       "      <td>0</td>\n",
       "    </tr>\n",
       "    <tr>\n",
       "      <th>1</th>\n",
       "      <td>1</td>\n",
       "      <td>96.77</td>\n",
       "      <td>79110</td>\n",
       "      <td>0</td>\n",
       "      <td>0</td>\n",
       "      <td>0</td>\n",
       "    </tr>\n",
       "    <tr>\n",
       "      <th>2</th>\n",
       "      <td>2</td>\n",
       "      <td>2.88</td>\n",
       "      <td>52511</td>\n",
       "      <td>1</td>\n",
       "      <td>0</td>\n",
       "      <td>0</td>\n",
       "    </tr>\n",
       "    <tr>\n",
       "      <th>3</th>\n",
       "      <td>3</td>\n",
       "      <td>79.25</td>\n",
       "      <td>8230</td>\n",
       "      <td>1</td>\n",
       "      <td>2</td>\n",
       "      <td>0</td>\n",
       "    </tr>\n",
       "    <tr>\n",
       "      <th>4</th>\n",
       "      <td>4</td>\n",
       "      <td>14.47</td>\n",
       "      <td>482</td>\n",
       "      <td>1</td>\n",
       "      <td>2</td>\n",
       "      <td>0</td>\n",
       "    </tr>\n",
       "  </tbody>\n",
       "</table>\n",
       "</div>"
      ],
      "text/plain": [
       "   TransactionID  Amount   Time  Location  Device  IsFraud\n",
       "0              0   36.69  53548         1       0        0\n",
       "1              1   96.77  79110         0       0        0\n",
       "2              2    2.88  52511         1       0        0\n",
       "3              3   79.25   8230         1       2        0\n",
       "4              4   14.47    482         1       2        0"
      ]
     },
     "execution_count": 249,
     "metadata": {},
     "output_type": "execute_result"
    }
   ],
   "source": [
    "cat_cols = df.select_dtypes(include='object').columns\n",
    "encoder = LabelEncoder()\n",
    "\n",
    "for col in cat_cols:\n",
    "    df[col] = encoder.fit_transform(df[col])\n",
    "\n",
    "df.head()"
   ]
  },
  {
   "cell_type": "markdown",
   "id": "1e92119a",
   "metadata": {},
   "source": [
    "<!-- ===== Gradient Header ===== -->\n",
    "<p style=\"background: linear-gradient(90deg, #fbc2eb, #a6c1ee);\n",
    "         font-family: 'Montserrat', sans-serif;\n",
    "         font-size: 24px;\n",
    "         text-align: center;\n",
    "         color: #1f1f1f;\n",
    "         padding: 22px 42px;\n",
    "         border-radius: 30px;\n",
    "         border: 3px solid #8fa6dc;\n",
    "         box-shadow: 0 8px 20px rgba(0,0,0,0.15);\n",
    "         letter-spacing: 1.1px;\n",
    "         word-spacing: 4px;\n",
    "         font-weight: 700;\n",
    "         text-shadow: 1px 1px 2px rgba(0,0,0,0.08);\n",
    "         margin: 10px 0 18px;\">\n",
    "  4. SMOTE (Synthetic Minority Oversampling Technique)\n",
    "</p>\n",
    "\n",
    "<!-- ===== SMOTE Info Card ===== -->\n",
    "<div style=\"font-family:'Montserrat',sans-serif;\n",
    "            background:#ffffff;\n",
    "            padding:18px 20px;\n",
    "            border-radius:14px;\n",
    "            border:1px solid #e6f0ff;\n",
    "            box-shadow:0 6px 18px rgba(0,0,0,0.06);\n",
    "            color:#2a2a2a;\">\n",
    "  <div style=\"display:flex; align-items:center; gap:10px; margin-bottom:8px;\">\n",
    "    <span style=\"font-size:18px;\">⚖️</span>\n",
    "    <h3 style=\"margin:0; font-size:17px; color:#1f3b68;\">Why Use SMOTE?</h3>\n",
    "  </div>\n",
    "  <ul style=\"margin:10px 0 0 18px; padding:0; line-height:1.8; font-size:15px;\">\n",
    "    <li>The dataset is <b>highly imbalanced</b>: only ~2% of transactions are fraudulent.</li>\n",
    "    <li><b>SMOTE</b> increases the minority class (fraud) samples by generating <b>synthetic examples</b> instead of reducing the majority class.</li>\n",
    "    <li>This helps the model <b>learn fraud patterns</b> without being biased toward genuine transactions.</li>\n",
    "  </ul>\n",
    "</div>\n"
   ]
  },
  {
   "cell_type": "code",
   "execution_count": null,
   "id": "0579b010",
   "metadata": {},
   "outputs": [
    {
     "name": "stdout",
     "output_type": "stream",
     "text": [
      "Note: you may need to restart the kernel to use updated packages.\n"
     ]
    }
   ],
   "source": [
    "# %pip install imblearn --quiet "
   ]
  },
  {
   "cell_type": "code",
   "execution_count": 254,
   "id": "a7c2446e",
   "metadata": {},
   "outputs": [],
   "source": [
    "X = df.drop('IsFraud',axis=1)\n",
    "y = df['IsFraud']\n",
    "X_train,X_test,y_train,y_test = train_test_split(X,y,test_size=0.2,random_state=42)\n",
    "\n",
    "smote = SMOTE(random_state=42)\n",
    "X_res, y_res = smote.fit_resample(X_train, y_train)"
   ]
  },
  {
   "cell_type": "code",
   "execution_count": 243,
   "id": "6c55dd21",
   "metadata": {},
   "outputs": [
    {
     "data": {
      "image/png": "[encoded data removed]",
      "text/plain": [
       "<Figure size 1200x500 with 2 Axes>"
      ]
     },
     "metadata": {},
     "output_type": "display_data"
    }
   ],
   "source": [
    "# 1. Visualize class distribution before undersampling\n",
    "plt.figure(figsize=(12,5))\n",
    "\n",
    "plt.subplot(1,2,1)\n",
    "sns.countplot(x=y_train)\n",
    "plt.title(\"Before SMOTE\")\n",
    "plt.xlabel(\"IsFraud\")\n",
    "plt.ylabel(\"Count\")\n",
    "\n",
    "# 2. Visualize class distribution after undersampling\n",
    "plt.subplot(1,2,2)\n",
    "sns.countplot(x=y_res)\n",
    "plt.title(\"After SMOTE\")\n",
    "plt.xlabel(\"IsFraud\")\n",
    "plt.ylabel(\"Count\")\n",
    "\n",
    "plt.tight_layout()\n",
    "plt.show()\n"
   ]
  },
  {
   "cell_type": "markdown",
   "id": "1df58291",
   "metadata": {},
   "source": [
    "<!-- ===== Gradient Header ===== -->\n",
    "<p style=\"background: linear-gradient(90deg, #fbc2eb, #a6c1ee);\n",
    "         font-family: 'Montserrat', sans-serif;\n",
    "         font-size: 24px;\n",
    "         text-align: center;\n",
    "         color: #1f1f1f;\n",
    "         padding: 22px 42px;\n",
    "         border-radius: 30px;\n",
    "         border: 3px solid #8fa6dc;\n",
    "         box-shadow: 0 8px 20px rgba(0,0,0,0.15);\n",
    "         letter-spacing: 1.1px;\n",
    "         word-spacing: 4px;\n",
    "         font-weight: 700;\n",
    "         text-shadow: 1px 1px 2px rgba(0,0,0,0.08);\n",
    "         margin: 10px 0 18px;\">\n",
    "  5. Feature Importance\n",
    "</p>\n",
    "\n",
    "<!-- ===== Feature Importance Info Card ===== -->\n",
    "<div style=\"font-family:'Montserrat',sans-serif;\n",
    "            background:#ffffff;\n",
    "            padding:18px 20px;\n",
    "            border-radius:14px;\n",
    "            border:1px solid #e6f0ff;\n",
    "            box-shadow:0 6px 18px rgba(0,0,0,0.06);\n",
    "            color:#2a2a2a;\">\n",
    "  <div style=\"display:flex; align-items:center; gap:10px; margin-bottom:8px;\">\n",
    "    <span style=\"font-size:18px;\">⭐</span>\n",
    "    <h3 style=\"margin:0; font-size:17px; color:#1f3b68;\">Why Feature Importance Matters?</h3>\n",
    "  </div>\n",
    "  <ul style=\"margin:10px 0 0 18px; padding:0; line-height:1.8; font-size:15px;\">\n",
    "    <li>Not all features contribute equally to predicting fraud; some can be <b>redundant or irrelevant</b>.</li>\n",
    "    <li><b>Random Forest + SelectFromModel</b> helps identify the most impactful features based on their contribution to impurity reduction.</li>\n",
    "    <li><b>Benefits:</b>\n",
    "      <ul style=\"margin:6px 0 0 18px; padding:0;\">\n",
    "        <li>✔ <b>Reduces dimensionality</b>, simplifying the model.</li>\n",
    "        <li>✔ <b>Improves performance</b> by focusing on strong predictors.</li>\n",
    "        <li>✔ <b>Enhances interpretability</b> for better business insights.</li>\n",
    "      </ul>\n",
    "    </li>\n",
    "  </ul>\n",
    "</div>\n"
   ]
  },
  {
   "cell_type": "code",
   "execution_count": 170,
   "id": "d9de0bff",
   "metadata": {},
   "outputs": [
    {
     "name": "stderr",
     "output_type": "stream",
     "text": [
      "d:\\Users\\Asadullah Core\\Apps\\AS\\envs\\python_ml\\Lib\\site-packages\\sklearn\\utils\\validation.py:2732: UserWarning: X has feature names, but SelectFromModel was fitted without feature names\n",
      "  warnings.warn(\n"
     ]
    },
    {
     "name": "stdout",
     "output_type": "stream",
     "text": [
      "Original features: Index(['Amount', 'Time', 'Location', 'Device'], dtype='object')\n",
      "\n",
      "Selected features: Index(['Amount', 'Time'], dtype='object')\n"
     ]
    },
    {
     "data": {
      "image/png": "[encoded data removed]",
      "text/plain": [
       "<Figure size 640x480 with 1 Axes>"
      ]
     },
     "metadata": {},
     "output_type": "display_data"
    }
   ],
   "source": [
    "# Define the random forest model and fit to the training data\n",
    "rf = RandomForestClassifier(n_jobs=-1, class_weight='balanced', max_depth=5, random_state=42)\n",
    "rf.fit(X_train, y_train)\n",
    "\n",
    "# Define the feature selection object\n",
    "model = SelectFromModel(rf, prefit=True)\n",
    "\n",
    "# Transform the training features (only keep important ones)\n",
    "X_train_transformed = model.transform(X_train)\n",
    "\n",
    "# Get original features (excluding target column, assuming last column is target)\n",
    "original_features = df.columns[:-1]\n",
    "print(f\"Original features: {original_features}\")\n",
    "\n",
    "# Select the features deemed important by the SelectFromModel\n",
    "features_bool = model.get_support()\n",
    "selected_features = original_features[features_bool]   # <-- filled blanks\n",
    "print(f\"\\nSelected features: {selected_features}\")\n",
    "\n",
    "# Feature importance DataFrame\n",
    "feature_importance = pd.DataFrame({\n",
    "    \"feature\": selected_features,\n",
    "    \"importance\": rf.feature_importances_[features_bool]\n",
    "})\n",
    "\n",
    "# Plot feature importances\n",
    "plt.barh(feature_importance[\"feature\"], feature_importance[\"importance\"])\n",
    "plt.title(\"Feature Importances Selected by Random Forest\")\n",
    "plt.xlabel(\"Importance Score\")\n",
    "plt.ylabel(\"Feature\")\n",
    "plt.show()\n"
   ]
  },
  {
   "cell_type": "markdown",
   "id": "17bd8761",
   "metadata": {},
   "source": [
    "**Observation**\n",
    "\n",
    "- **Original Features:** `Amount`, `Time`, `Location`, `Device`  \n",
    "- **Selected Features (Important):** `Amount`, `Time`  \n",
    " \n",
    "- The Random Forest-based feature selection indicates that **`Amount` and `Time`** are the **most predictive features** for fraud detection.  \n",
    "- Categorical features like `Location` and `Device` were **less informative** and therefore excluded.  \n",
    "- Using only the important features helps to:  \n",
    "  - **Simplify the model**  \n",
    "  - **Improve training speed**  \n",
    "  - **Reduce noise**, enhancing overall predictive performance  \n"
   ]
  },
  {
   "cell_type": "markdown",
   "id": "226f36e1",
   "metadata": {},
   "source": [
    "<!-- ===== Gradient Header ===== -->\n",
    "<p style=\"background: linear-gradient(90deg, #fbc2eb, #a6c1ee);\n",
    "         font-family: 'Montserrat', sans-serif;\n",
    "         font-size: 24px;\n",
    "         text-align: center;\n",
    "         color: #1f1f1f;\n",
    "         padding: 22px 42px;\n",
    "         border-radius: 30px;\n",
    "         border: 3px solid #8fa6dc;\n",
    "         box-shadow: 0 8px 20px rgba(0,0,0,0.15);\n",
    "         letter-spacing: 1.1px;\n",
    "         word-spacing: 4px;\n",
    "         font-weight: 700;\n",
    "         text-shadow: 1px 1px 2px rgba(0,0,0,0.08);\n",
    "         margin: 10px 0 18px;\">\n",
    "  6. Build Model\n",
    "</p>\n",
    "\n",
    "<!-- ===== Build Model Info Card ===== -->\n",
    "<div style=\"font-family:'Montserrat',sans-serif;\n",
    "            background:#ffffff;\n",
    "            padding:18px 20px;\n",
    "            border-radius:14px;\n",
    "            border:1px solid #e6f0ff;\n",
    "            box-shadow:0 6px 18px rgba(0,0,0,0.06);\n",
    "            color:#2a2a2a;\">\n",
    "  <div style=\"display:flex; align-items:center; gap:10px; margin-bottom:8px;\">\n",
    "    <span style=\"font-size:18px;\">🤖</span>\n",
    "    <h3 style=\"margin:0; font-size:17px; color:#1f3b68;\">Model Development Strategy</h3>\n",
    "  </div>\n",
    "  <ul style=\"margin:10px 0 0 18px; padding:0; line-height:1.8; font-size:15px;\">\n",
    "    <li>Train multiple models for fraud detection: \n",
    "      <ul style=\"margin:6px 0 0 18px; padding:0;\">\n",
    "        <li>✔ <b>Random Forest</b> — robust and interpretable.</li>\n",
    "    <li>Evaluate using:\n",
    "      <ul style=\"margin:6px 0 0 18px; padding:0;\">\n",
    "        <li>📏 <b>Precision, Recall, F1-score</b></li>\n",
    "        <li>📊 <b>Confusion Matrix</b></li>\n",
    "      </ul>\n",
    "    </li>\n",
    "  </ul>\n",
    "</div>\n"
   ]
  },
  {
   "cell_type": "code",
   "execution_count": 255,
   "id": "1ee7ea4d",
   "metadata": {},
   "outputs": [
    {
     "name": "stdout",
     "output_type": "stream",
     "text": [
      "=== Random Forest with class_weight ===\n",
      "Precision: 0.02456140350877193\n",
      "Recall: 0.245\n",
      "Confusion Matrix:\n",
      " [[7854 1946]\n",
      " [ 151   49]]\n"
     ]
    }
   ],
   "source": [
    "rf_smote = RandomForestClassifier(\n",
    "    n_estimators=100,\n",
    "    random_state=42,\n",
    "    n_jobs=-1\n",
    ")\n",
    "rf_smote.fit(X_res, y_res)\n",
    "y_pred = rf_smote.predict(X_test)\n",
    "\n",
    "# Evaluation\n",
    "print(\"=== Random Forest with class_weight ===\")\n",
    "print(\"Precision:\", precision_score(y_test, y_pred))\n",
    "print(\"Recall:\", recall_score(y_test, y_pred))\n",
    "print(\"Confusion Matrix:\\n\", confusion_matrix(y_test, y_pred))\n"
   ]
  },
  {
   "cell_type": "markdown",
   "id": "cd627b1a",
   "metadata": {},
   "source": [
    "**Objective**\n",
    "\n",
    "\n",
    "**Precision (Fraud Class):** 0.022  \n",
    "**Recall (Fraud Class):** 0.213  \n",
    "\n",
    "**Confusion Matrix:**\n",
    "\n",
    "|                | Predicted Non-Fraud | Predicted Fraud |\n",
    "|----------------|------------------|----------------|\n",
    "| **Actual Non-Fraud** | 11666            | 3014           |\n",
    "| **Actual Fraud**     | 252              | 68             |\n",
    "\n",
    "**Insights:**\n",
    "- Model detects ~21% of fraud cases correctly (recall).  \n",
    "- Precision is low due to many false positives.  \n",
    "- SMOTE or threshold tuning can improve performance.\n"
   ]
  },
  {
   "cell_type": "markdown",
   "id": "b48598a5",
   "metadata": {},
   "source": [
    "<!-- ===== Gradient Header ===== -->\n",
    "<p style=\"background: linear-gradient(90deg, #fbc2eb, #a6c1ee);\n",
    "         font-family: 'Montserrat', sans-serif;\n",
    "         font-size: 24px;\n",
    "         text-align: center;\n",
    "         color: #1f1f1f;\n",
    "         padding: 22px 42px;\n",
    "         border-radius: 30px;\n",
    "         border: 3px solid #8fa6dc;\n",
    "         box-shadow: 0 8px 20px rgba(0,0,0,0.15);\n",
    "         letter-spacing: 1.1px;\n",
    "         word-spacing: 4px;\n",
    "         font-weight: 700;\n",
    "         text-shadow: 1px 1px 2px rgba(0,0,0,0.08);\n",
    "         margin: 10px 0 18px;\">\n",
    "  7. Evaluation\n",
    "</p>\n",
    "\n",
    "<!-- ===== Evaluation Info Card ===== -->\n",
    "<div style=\"font-family:'Montserrat',sans-serif;\n",
    "            background:#ffffff;\n",
    "            padding:18px 20px;\n",
    "            border-radius:14px;\n",
    "            border:1px solid #e6f0ff;\n",
    "            box-shadow:0 6px 18px rgba(0,0,0,0.06);\n",
    "            color:#2a2a2a;\">\n",
    "  <div style=\"display:flex; align-items:center; gap:10px; margin-bottom:8px;\">\n",
    "    <span style=\"font-size:18px;\">📊</span>\n",
    "    <h3 style=\"margin:0; font-size:17px; color:#1f3b68;\">Model Performance Metrics</h3>\n",
    "  </div>\n",
    "  <ul style=\"margin:10px 0 0 18px; padding:0; line-height:1.8; font-size:15px;\">\n",
    "    <li>✅ <b>Confusion Matrix</b> — to visualize TP, FP, TN, FN.</li>\n",
    "    <li>✅ <b>Precision & Recall</b> — ensure fraud detection accuracy without high false positives.</li>\n",
    "  </ul>\n",
    "</div>\n"
   ]
  },
  {
   "cell_type": "code",
   "execution_count": 256,
   "id": "e9c81534",
   "metadata": {},
   "outputs": [
    {
     "data": {
      "image/png": "[encoded data removed]",
      "text/plain": [
       "<Figure size 600x400 with 2 Axes>"
      ]
     },
     "metadata": {},
     "output_type": "display_data"
    }
   ],
   "source": [
    "# Confusion Matrix\n",
    "cm = confusion_matrix(y_test, y_pred)\n",
    "plt.figure(figsize=(6,4))\n",
    "sns.heatmap(cm, annot=True, fmt='d', cmap='Blues', xticklabels=[0,1], yticklabels=[0,1])\n",
    "plt.xlabel(\"Predicted\")\n",
    "plt.ylabel(\"Actual\")\n",
    "plt.title(\"Confusion Matrix\")\n",
    "plt.show()"
   ]
  },
  {
   "cell_type": "markdown",
   "id": "7d076111",
   "metadata": {},
   "source": [
    "<!-- ===== Gradient Header ===== -->\n",
    "<p style=\"background: linear-gradient(90deg, #fbc2eb, #a6c1ee);\n",
    "         font-family: 'Montserrat', sans-serif;\n",
    "         font-size: 24px;\n",
    "         text-align: center;\n",
    "         color: #1f1f1f;\n",
    "         padding: 22px 42px;\n",
    "         border-radius: 30px;\n",
    "         border: 3px solid #8fa6dc;\n",
    "         box-shadow: 0 8px 20px rgba(0,0,0,0.15);\n",
    "         letter-spacing: 1.1px;\n",
    "         word-spacing: 4px;\n",
    "         font-weight: 700;\n",
    "         text-shadow: 1px 1px 2px rgba(0,0,0,0.08);\n",
    "         margin: 10px 0 18px;\">\n",
    "  🔍 Model Observation\n",
    "</p>\n",
    "\n",
    "<!-- ===== Observation Card ===== -->\n",
    "<div style=\"font-family:'Montserrat',sans-serif;\n",
    "            background:#ffffff;\n",
    "            padding:18px 20px;\n",
    "            border-radius:14px;\n",
    "            border:1px solid #e6f0ff;\n",
    "            box-shadow:0 6px 18px rgba(0,0,0,0.06);\n",
    "            color:#2a2a2a;\">\n",
    "  <ol style=\"margin:10px 0 0 18px; padding:0; line-height:1.8; font-size:15px;\">\n",
    "    <li>The model achieved a <b style=\"color:#d9534f;\">very low precision (~2%)</b>, meaning it incorrectly flagged a large number of normal transactions as fraud.</li>\n",
    "    <li>The <b>confusion matrix</b> shows extreme imbalance, with <b style=\"color:#d9534f;\">thousands of false positives (4925)</b> compared to only <b>103 true fraud detections</b>.</li>\n",
    "    <li>This indicates the classifier is <b>struggling to distinguish fraud from non-fraud</b>, likely due to severe class imbalance.</li>\n",
    "    <li>The current model may not be usable in real-world fraud detection, as <b>false positives would overwhelm the system</b>.</li>\n",
    "    <li><b>Improvement strategies:</b> try class rebalancing (<b>SMOTE / undersampling / oversampling</b>), fine-tuning <b>Random Forest</b> hyperparameters, or using advanced models like <b>XGBoost</b>.</li>\n",
    "  </ol>\n",
    "</div>\n"
   ]
  },
  {
   "cell_type": "code",
   "execution_count": 257,
   "id": "30445ca5",
   "metadata": {},
   "outputs": [
    {
     "data": {
      "image/png": "[encoded data removed]",
      "text/plain": [
       "<Figure size 800x600 with 1 Axes>"
      ]
     },
     "metadata": {},
     "output_type": "display_data"
    }
   ],
   "source": [
    "# =============================\n",
    "# Feature Importance\n",
    "# =============================\n",
    "importances = rf_smote.feature_importances_\n",
    "feat_importances = pd.Series(importances, index=X.columns)\n",
    "feat_importances.plot(kind='barh', figsize=(8,6), title=\"Top 10 Important Features\")\n",
    "plt.show()"
   ]
  },
  {
   "cell_type": "markdown",
   "id": "ec2a42a4",
   "metadata": {},
   "source": [
    "<!-- ===== Gradient Header ===== -->\n",
    "<p style=\"background: linear-gradient(90deg, #fbc2eb, #a6c1ee);\n",
    "         font-family: 'Montserrat', sans-serif;\n",
    "         font-size: 24px;\n",
    "         text-align: center;\n",
    "         color: #1f1f1f;\n",
    "         padding: 22px 42px;\n",
    "         border-radius: 30px;\n",
    "         border: 3px solid #8fa6dc;\n",
    "         box-shadow: 0 8px 20px rgba(0,0,0,0.15);\n",
    "         letter-spacing: 1.1px;\n",
    "         word-spacing: 4px;\n",
    "         font-weight: 700;\n",
    "         text-shadow: 1px 1px 2px rgba(0,0,0,0.08);\n",
    "         margin: 10px 0 18px;\">\n",
    "  📈 Feature Importance Observation\n",
    "</p>\n",
    "\n",
    "<!-- ===== Feature Importance Card ===== -->\n",
    "<div style=\"font-family:'Montserrat',sans-serif;\n",
    "            background:#ffffff;\n",
    "            padding:18px 20px;\n",
    "            border-radius:14px;\n",
    "            border:1px solid #e6f0ff;\n",
    "            box-shadow:0 6px 18px rgba(0,0,0,0.06);\n",
    "            color:#2a2a2a;\">\n",
    "  <p style=\"margin-bottom:12px; font-size:15px;\">\n",
    "    The plot shows how much each feature contributes to the Random Forest model's decisions (after <b>SMOTE oversampling</b>):\n",
    "  </p>\n",
    "  <ul style=\"margin:10px 0 0 18px; padding:0; line-height:1.8; font-size:15px;\">\n",
    "    <li><b>Amount:</b> <span style=\"color:#5cb85c; font-weight:bold;\">0.484</span> → Most important feature, strongly influences fraud prediction.</li>\n",
    "    <li><b>Time:</b> <span style=\"color:#5bc0de; font-weight:bold;\">0.430</span> → Second most important, moderately important for model.</li>\n",
    "    <li><b>Location:</b> <span style=\"color:#f0ad4e; font-weight:bold;\">0.043</span> → Minimal contribution.</li>\n",
    "    <li><b>Device:</b> <span style=\"color:#f0ad4e; font-weight:bold;\">0.043</span> → Minimal contribution.</li>\n",
    "  </ul>\n",
    "  <blockquote style=\"margin-top:14px; padding:10px 14px; background:#f9f9f9; border-left:4px solid #a6c1ee; font-style:italic; color:#333; font-size:14px;\">\n",
    "    Features with higher importance have a larger impact on the model's predictions.\n",
    "  </blockquote>\n",
    "</div>\n"
   ]
  },
  {
   "cell_type": "markdown",
   "id": "c47185e8",
   "metadata": {},
   "source": [
    "<!-- ===== Gradient Header ===== -->\n",
    "<p style=\"background: linear-gradient(90deg, #fbc2eb, #a6c1ee);\n",
    "         font-family: 'Montserrat', sans-serif;\n",
    "         font-size: 24px;\n",
    "         text-align: center;\n",
    "         color: #1f1f1f;\n",
    "         padding: 22px 42px;\n",
    "         border-radius: 30px;\n",
    "         border: 3px solid #8fa6dc;\n",
    "         box-shadow: 0 8px 20px rgba(0,0,0,0.15);\n",
    "         letter-spacing: 1.1px;\n",
    "         word-spacing: 4px;\n",
    "         font-weight: 700;\n",
    "         text-shadow: 1px 1px 2px rgba(0,0,0,0.08);\n",
    "         margin: 10px 0 18px;\">\n",
    "  ✅ Conclusion & Key Takeaways\n",
    "</p>\n",
    "\n",
    "<!-- ===== Conclusion Card ===== -->\n",
    "<div style=\"font-family:'Montserrat',sans-serif;\n",
    "            background:#ffffff;\n",
    "            padding:20px 24px;\n",
    "            border-radius:14px;\n",
    "            border:1px solid #e6f0ff;\n",
    "            box-shadow:0 6px 18px rgba(0,0,0,0.06);\n",
    "            color:#2a2a2a;\n",
    "            font-size:15px;\n",
    "            line-height:1.7;\">\n",
    "  \n",
    "  <p><b>📌 Project:</b> Fraud Detection in Financial Transactions</p>\n",
    "  <p><b>⏳ Duration:</b> 5 days</p>\n",
    "  <p><b>🎯 Objective:</b> Identify fraudulent transactions from synthetic financial data using machine learning techniques.</p>\n",
    "\n",
    "  <h3 style=\"margin-top:18px; font-size:18px; color:#5cb85c;\">Summary of Work Done:</h3>\n",
    "  <ul style=\"margin-left:18px; padding:0;\">\n",
    "    <li>Performed <b>data preprocessing</b> including handling categorical variables and checking for imbalances.</li>\n",
    "    <li>Conducted <b>data visualization</b> to understand patterns in transaction amount, time, location, and device.</li>\n",
    "    <li>Addressed class imbalance using <b>SMOTE</b>, ensuring the model could learn minority class patterns effectively.</li>\n",
    "    <li>Built and evaluated a <b>Random Forest classifier</b> (with class weighting and SMOTE) to predict fraudulent transactions.</li>\n",
    "    <li>Analyzed model performance using <b>confusion matrix, precision, recall, and feature importance</b> to identify key predictors like <b>Amount</b> and <b>Time</b>.</li>\n",
    "  </ul>\n",
    "\n",
    "  <h3 style=\"margin-top:18px; font-size:18px; color:#5bc0de;\">Key Insights:</h3>\n",
    "  <ul style=\"margin-left:18px; padding:0;\">\n",
    "    <li>Fraudulent transactions represent only <b>~2%</b> of the dataset, highlighting the importance of proper class balancing.</li>\n",
    "    <li><b>Amount</b> and <b>Time</b> were the most significant features influencing fraud prediction.</li>\n",
    "    <li>While precision is low due to high false positives, recall improved with <b>SMOTE</b>, making the model better at detecting actual frauds.</li>\n",
    "  </ul>\n",
    "\n",
    "  <h3 style=\"margin-top:18px; font-size:18px; color:#f0ad4e;\">Conclusion:</h3>\n",
    "  <p>\n",
    "    This project demonstrates a complete <b>end-to-end approach for fraud detection</b>, combining data preprocessing, balancing techniques, machine learning modeling, and performance evaluation.\n",
    "    The methodology can be extended to real-world financial datasets, providing a foundation for building robust fraud detection systems in the future.\n",
    "  </p>\n",
    "\n",
    "  <h3 style=\"margin-top:18px; font-size:18px; color:#d9534f;\">Next Steps / Recommendations:</h3>\n",
    "  <ul style=\"margin-left:18px; padding:0;\">\n",
    "    <li>Experiment with other models like <b>Gradient Boosting or XGBoost</b> for improved performance.</li>\n",
    "    <li>Apply <b>threshold tuning</b> to optimize precision-recall trade-off.</li>\n",
    "    <li>Incorporate additional features (e.g., transaction history, user behavior) for better predictive power.</li>\n",
    "  </ul>\n",
    "\n",
    "  <blockquote style=\"margin-top:14px; padding:10px 14px; background:#f9f9f9; border-left:4px solid #a6c1ee; font-style:italic; color:#333; font-size:14px;\">\n",
    "    This internship task provided practical experience in <b>handling imbalanced datasets</b>, <b>implementing Random Forest models</b>, and <b>interpreting model insights</b> for real-world applications.\n",
    "  </blockquote>\n",
    "</div>\n"
   ]
  }
 ],
 "metadata": {
  "kernelspec": {
   "display_name": "python_ml",
   "language": "python",
   "name": "python3"
  },
  "language_info": {
   "codemirror_mode": {
    "name": "ipython",
    "version": 3
   },
   "file_extension": ".py",
   "mimetype": "text/x-python",
   "name": "python",
   "nbconvert_exporter": "python",
   "pygments_lexer": "ipython3",
   "version": "3.11.11"
  }
 },
 "nbformat": 4,
 "nbformat_minor": 5
}
